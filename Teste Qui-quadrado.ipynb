{
 "cells": [
  {
   "cell_type": "markdown",
   "id": "58b90d9b",
   "metadata": {},
   "source": [
    "# Teste Qui-Quadrado"
   ]
  },
  {
   "cell_type": "code",
   "execution_count": 2,
   "id": "1c136c08",
   "metadata": {},
   "outputs": [],
   "source": [
    "from scipy.stats import chi2_contingency\n",
    "import numpy as np\n",
    "import math"
   ]
  },
  {
   "cell_type": "code",
   "execution_count": 3,
   "id": "510acbbc",
   "metadata": {},
   "outputs": [],
   "source": [
    "tabela = np.array([[30, 20], [22, 28]])"
   ]
  },
  {
   "cell_type": "code",
   "execution_count": 4,
   "id": "65dc7539",
   "metadata": {},
   "outputs": [
    {
     "data": {
      "text/plain": [
       "(2, 2)"
      ]
     },
     "execution_count": 4,
     "metadata": {},
     "output_type": "execute_result"
    }
   ],
   "source": [
    "tabela.shape # Formato de matriz"
   ]
  },
  {
   "cell_type": "code",
   "execution_count": 6,
   "id": "f6552ac3",
   "metadata": {},
   "outputs": [
    {
     "data": {
      "text/plain": [
       "(1.9631410256410255,\n",
       " 0.16117778944980238,\n",
       " 1,\n",
       " array([[26., 24.],\n",
       "        [26., 24.]]))"
      ]
     },
     "execution_count": 6,
     "metadata": {},
     "output_type": "execute_result"
    }
   ],
   "source": [
    "_, p, _, _ = chi2_contingency(tabela)\n",
    "chi2_contingency(tabela)"
   ]
  },
  {
   "cell_type": "markdown",
   "id": "8ab8591b",
   "metadata": {},
   "source": [
    "Logo, o p = 0.16117778944980238"
   ]
  },
  {
   "cell_type": "markdown",
   "id": "7bdfc684",
   "metadata": {},
   "source": [
    " Em baixo, a frequencia esperada é dado pela tabela seguinte. "
   ]
  },
  {
   "cell_type": "code",
   "execution_count": 7,
   "id": "9933296c",
   "metadata": {},
   "outputs": [
    {
     "name": "stdout",
     "output_type": "stream",
     "text": [
      "Hipotese alternativa rejeitada\n"
     ]
    }
   ],
   "source": [
    "alpha = 0.05\n",
    "\n",
    "if p <= alpha:\n",
    "    print(\"Hipotese nula rejeitada\")\n",
    "else:\n",
    "    print(\"Hipotese alternativa rejeitada\")"
   ]
  },
  {
   "cell_type": "markdown",
   "id": "14fafc8a",
   "metadata": {},
   "source": [
    "Logo, o valor atual é o usado. Logo, não há diferença estatistica entre os dados."
   ]
  },
  {
   "cell_type": "code",
   "execution_count": null,
   "id": "009ff01b",
   "metadata": {},
   "outputs": [],
   "source": []
  }
 ],
 "metadata": {
  "kernelspec": {
   "display_name": "Python 3",
   "language": "python",
   "name": "python3"
  },
  "language_info": {
   "codemirror_mode": {
    "name": "ipython",
    "version": 3
   },
   "file_extension": ".py",
   "mimetype": "text/x-python",
   "name": "python",
   "nbconvert_exporter": "python",
   "pygments_lexer": "ipython3",
   "version": "3.8.8"
  }
 },
 "nbformat": 4,
 "nbformat_minor": 5
}
